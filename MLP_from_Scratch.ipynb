{
 "cells": [
  {
   "cell_type": "code",
   "execution_count": null,
   "metadata": {},
   "outputs": [],
   "source": [
    "import pandas as pd\n",
    "import numpy as np"
   ]
  },
  {
   "cell_type": "markdown",
   "metadata": {},
   "source": [
    "First I put the data in **pandas dataframe** format to make working with it easier.\n",
    "For each point, I put its x and y coordinates in seperated columns as the features.\n",
    "I give the red dots labels of 1 and the blue dots labels of 0 as below:"
   ]
  },
  {
   "cell_type": "code",
   "execution_count": 22,
   "metadata": {},
   "outputs": [],
   "source": [
    "data = {'x':[0, 1, 1, 2, 2, 3, 3, 2, 2.5, 3],\n",
    "        'y':[0, 1, -1, 2, -2, 3, -3, 0, 0, 0],\n",
    "        'label':[0, 0, 0, 0, 0, 0, 0, 1, 1, 1]\n",
    "        }\n",
    "df = pd.DataFrame(data,columns=['x','y','label'])"
   ]
  },
  {
   "cell_type": "markdown",
   "metadata": {},
   "source": [
    "I split the data into train and test:"
   ]
  },
  {
   "cell_type": "code",
   "execution_count": 23,
   "metadata": {},
   "outputs": [],
   "source": [
    "mask = np.random.rand(len(df)) <= 0.8\n",
    "training_data = df[mask]\n",
    "testing_data = df[~mask]\n",
    "target_output = df.label"
   ]
  },
  {
   "cell_type": "markdown",
   "metadata": {},
   "source": [
    "I define the **sigmoid** function and its derivative as below:"
   ]
  },
  {
   "cell_type": "code",
   "execution_count": 24,
   "metadata": {},
   "outputs": [],
   "source": [
    "def sigmoid(x):\n",
    "    return(1.0/(1 + np.exp(-x)))\n",
    "\n",
    "def sigmoid_deriv(x):\n",
    "    return sigmoid(x) * (1 - sigmoid(x))"
   ]
  },
  {
   "cell_type": "markdown",
   "metadata": {},
   "source": [
    "I define the **learning rate** and the **number of nodes** in the input layer and the hidden layer (I put 2 nodes in each layer), and number of epochs as below.\n",
    "\n",
    "\n",
    "I then define the matrices for weights of each layer. I have a 2x2 matrix for conncetions between the input layer and the hidden layer, and 1x2 matrix for conncetions between the hidden layer and output layer.\n",
    "\n",
    "\n",
    "I initialize the matrices with values from **standard normal distribution** as below:"
   ]
  },
  {
   "cell_type": "code",
   "execution_count": 33,
   "metadata": {},
   "outputs": [],
   "source": [
    "learning_rate = 0.1   \n",
    "\n",
    "Input_layer_dim = 3\n",
    "Hidden_layer_dim = 2\n",
    "\n",
    "num_epoch = 1\n",
    "\n",
    "weights_first_layer = np.random.normal(0, 1, (Input_layer_dim, Hidden_layer_dim))\n",
    "weights_second_layer = np.random.normal(0, 1, Hidden_layer_dim)\n",
    "\n",
    "z_hidden_layer = np.zeros(Hidden_layer_dim)\n",
    "y_hidden_layer = np.zeros(Hidden_layer_dim)"
   ]
  },
  {
   "cell_type": "markdown",
   "metadata": {},
   "source": [
    "I traverse the neural network for the number of epochs I defined.\n",
    "\n",
    "\n",
    "I first implement **feed forward**: each time, I calculate the output node’s z signal (dot of inputs with wights) and the y signal (sigmoid of z) for each sample.\n",
    "\n",
    "\n",
    "Then I implement **back propagation** to update the w's for the second and first layers as below:"
   ]
  },
  {
   "cell_type": "code",
   "execution_count": 34,
   "metadata": {},
   "outputs": [],
   "source": [
    "for epoch in range(num_epoch):\n",
    "    for sample in range(len(training_data)):\n",
    "        inputs = [training_data['x'].values[sample], training_data['y'].values[sample],1]\n",
    "        for node in range(Hidden_layer_dim):\n",
    "            z_hidden_layer[node] = np.dot(inputs, weights_first_layer[:, node])\n",
    "            y_hidden_layer[node] = sigmoid(z_hidden_layer[node])\n",
    "            \n",
    "        z_output_layer = np.dot(y_hidden_layer, weights_second_layer)\n",
    "        y_output_layer = sigmoid(z_output_layer)\n",
    "        \n",
    "        FE = y_output_layer - target_output[sample]\n",
    "        \n",
    "        for Hidden_node in range(Hidden_layer_dim):\n",
    "            gradient = FE * sigmoid_deriv(z_output_layer) * y_hidden_layer[Hidden_node]\n",
    "                       \n",
    "            for Input_node in range(Input_layer_dim):\n",
    "                if (Input_node == 0):\n",
    "                    input_value = training_data['x'].values[sample]\n",
    "                else:\n",
    "                    input_value = training_data['y'].values[sample]\n",
    "                gradient_first_layer = FE * sigmoid_deriv(z_output_layer) * weights_second_layer[Hidden_node] * sigmoid_deriv(z_hidden_layer[Hidden_node]) * input_value\n",
    "                \n",
    "                weights_first_layer[Input_node, Hidden_node] -= learning_rate * gradient_first_layer\n",
    "                \n",
    "            weights_second_layer[Hidden_node] -= learning_rate * gradient\n"
   ]
  },
  {
   "cell_type": "markdown",
   "metadata": {},
   "source": [
    "Now that I have the updated w's, I test the algorithm with the test data, and calculate the **precision** as below:"
   ]
  },
  {
   "cell_type": "code",
   "execution_count": 35,
   "metadata": {},
   "outputs": [
    {
     "name": "stdout",
     "output_type": "stream",
     "text": [
      "Percentage of correct classifications:\n",
      "100.0\n"
     ]
    }
   ],
   "source": [
    "correct_classification_count = 0\n",
    "for sample in range(len(testing_data)):\n",
    "    inputs = [training_data['x'].values[sample], training_data['y'].values[sample],1]\n",
    "    for node in range(Hidden_layer_dim):\n",
    "        z_hidden_layer[node] = np.dot(inputs, weights_first_layer[:, node])\n",
    "        y_hidden_layer[node] = sigmoid(z_hidden_layer[node])\n",
    "            \n",
    "    z_output_layer = np.dot(y_hidden_layer, weights_second_layer)\n",
    "    y_output_layer = sigmoid(z_output_layer)\n",
    "        \n",
    "    if y_output_layer > 0.5:\n",
    "        output = 1\n",
    "    else:\n",
    "        output = 0     \n",
    "        \n",
    "    if output == testing_data['label'].values[sample]:\n",
    "        correct_classification_count += 1\n",
    "\n",
    "print('Percentage of correct classifications:')\n",
    "print(correct_classification_count*100/len(testing_data))"
   ]
  },
  {
   "cell_type": "markdown",
   "metadata": {},
   "source": [
    "The classifying hyperplanes can be plotted using **matplotlib** as below:"
   ]
  },
  {
   "cell_type": "code",
   "execution_count": 36,
   "metadata": {},
   "outputs": [
    {
     "name": "stdout",
     "output_type": "stream",
     "text": [
      "[[ 0.10062437  0.30597003]\n",
      " [-0.83237308 -0.46497596]\n",
      " [ 0.3559019  -0.23695033]]\n"
     ]
    },
    {
     "data": {
      "text/plain": [
       "[<matplotlib.lines.Line2D at 0x11d100be0>]"
      ]
     },
     "execution_count": 36,
     "metadata": {},
     "output_type": "execute_result"
    },
    {
     "data": {
      "image/png": "[encoded data removed]",
      "text/plain": [
       "<Figure size 432x288 with 1 Axes>"
      ]
     },
     "metadata": {
      "needs_background": "light"
     },
     "output_type": "display_data"
    }
   ],
   "source": [
    "import matplotlib.pyplot as plt\n",
    "x_red = [2, 2.5, 3]\n",
    "y_red = [0, 0, 0]\n",
    "x_blue = [0, 1, 1, 2, 2, 3, 3]\n",
    "y_blue = [0, 1, -1, 2, -2, 3, -3]\n",
    "plt.scatter(x_red,y_red,color='red')\n",
    "plt.scatter(x_blue,y_blue,color='blue')\n",
    "print(weights_first_layer)\n",
    "x = np.linspace(0,4)\n",
    "y1 = -1*(weights_first_layer[2][0] * x + weights_first_layer[0][0]) / weights_first_layer[1][0]\n",
    "y2 = -1*(weights_first_layer[2][1] * x + weights_first_layer[0][1]) / weights_first_layer[1][1]\n",
    "plt.plot(x,y1,color='green')\n",
    "plt.plot(x,y2,color='green')\n",
    "\n"
   ]
  }
 ],
 "metadata": {
  "interpreter": {
   "hash": "eeab3e71adb6dbd0e75fb9a8c9bdb5e7c4aba7cf3fd60c4dcf30c1777b01516d"
  },
  "kernelspec": {
   "display_name": "Python 3",
   "language": "python",
   "name": "python3"
  },
  "language_info": {
   "codemirror_mode": {
    "name": "ipython",
    "version": 3
   },
   "file_extension": ".py",
   "mimetype": "text/x-python",
   "name": "python",
   "nbconvert_exporter": "python",
   "pygments_lexer": "ipython3",
   "version": "3.8.5"
  }
 },
 "nbformat": 4,
 "nbformat_minor": 2
}
